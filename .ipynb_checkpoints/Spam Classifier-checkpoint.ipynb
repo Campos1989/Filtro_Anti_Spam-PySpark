{
 "cells": [
  {
   "cell_type": "markdown",
   "metadata": {},
   "source": [
    "### André Campos da Silva\n",
    "\n",
    "\n",
    "### 08 de Janeiro, 2021\n",
    "\n",
    "### Projeto -  Spam Classifier\n"
   ]
  },
  {
   "cell_type": "markdown",
   "metadata": {},
   "source": [
    "Desenvolver um algoritmo em pyspark que seja capaz de determinar se uma mensagem é spam ou não, baseados em dados históricos. "
   ]
  },
  {
   "cell_type": "markdown",
   "metadata": {},
   "source": [
    "## Carregando pacotes"
   ]
  },
  {
   "cell_type": "code",
   "execution_count": 1,
   "metadata": {},
   "outputs": [],
   "source": [
    "from pyspark.ml import Pipeline\n",
    "from pyspark.ml.feature import IDF\n",
    "from pyspark.ml.feature import HashingTF, Tokenizer,StopWordsRemover,CountVectorizer\n",
    "from pyspark.ml.classification import NaiveBayes, NaiveBayesModel\n",
    "from pyspark.ml.evaluation import MulticlassClassificationEvaluator\n",
    "from pyspark.sql.functions import udf, col, lower, regexp_replace,ltrim, rtrim\n",
    "from nltk.stem.snowball import SnowballStemmer\n"
   ]
  },
  {
   "cell_type": "markdown",
   "metadata": {},
   "source": [
    "## Carregando os Dados"
   ]
  },
  {
   "cell_type": "code",
   "execution_count": 2,
   "metadata": {},
   "outputs": [],
   "source": [
    "RDDdataset = sc.textFile(\"Dados/sms_spam.csv\")"
   ]
  },
  {
   "cell_type": "code",
   "execution_count": 3,
   "metadata": {},
   "outputs": [
    {
     "data": {
      "text/plain": [
       "pyspark.rdd.RDD"
      ]
     },
     "execution_count": 3,
     "metadata": {},
     "output_type": "execute_result"
    }
   ],
   "source": [
    "type(RDDdataset)"
   ]
  },
  {
   "cell_type": "code",
   "execution_count": 4,
   "metadata": {},
   "outputs": [
    {
     "data": {
      "text/plain": [
       "['type,text',\n",
       " 'ham,Hope you are having a good week. Just checking in',\n",
       " 'ham,K..give back my thanks.',\n",
       " 'ham,Am also doing in cbe only. But have to pay.',\n",
       " 'spam,\"complimentary 4 STAR Ibiza Holiday or £10,000 cash needs your URGENT collection. 09066364349 NOW from Landline not to lose out! Box434SK38WP150PPM18+\"',\n",
       " 'spam,okmail: Dear Dave this is your final notice to collect your 4* Tenerife Holiday or #5000 CASH award! Call 09061743806 from landline. TCs SAE Box326 CW25WX 150ppm',\n",
       " 'ham,Aiya we discuss later lar... Pick u up at 4 is it?',\n",
       " 'ham,Are you this much buzy',\n",
       " 'ham,Please ask mummy to call father',\n",
       " 'spam,Marvel Mobile Play the official Ultimate Spider-man game (£4.50) on ur mobile right now. Text SPIDER to 83338 for the game & we ll send u a FREE 8Ball wallpaper']"
      ]
     },
     "execution_count": 4,
     "metadata": {},
     "output_type": "execute_result"
    }
   ],
   "source": [
    "RDDdataset.take(10)"
   ]
  },
  {
   "cell_type": "markdown",
   "metadata": {},
   "source": [
    "## Tratamento dos dados"
   ]
  },
  {
   "cell_type": "code",
   "execution_count": 5,
   "metadata": {},
   "outputs": [],
   "source": [
    "# Removo o cabeçalho \n",
    "cabecalho = RDDdataset.take(1)[0]\n",
    "RDDdataset = RDDdataset.filter(lambda line: line !=cabecalho)"
   ]
  },
  {
   "cell_type": "code",
   "execution_count": 6,
   "metadata": {},
   "outputs": [
    {
     "data": {
      "text/plain": [
       "['ham,Hope you are having a good week. Just checking in',\n",
       " 'ham,K..give back my thanks.',\n",
       " 'ham,Am also doing in cbe only. But have to pay.',\n",
       " 'spam,\"complimentary 4 STAR Ibiza Holiday or £10,000 cash needs your URGENT collection. 09066364349 NOW from Landline not to lose out! Box434SK38WP150PPM18+\"',\n",
       " 'spam,okmail: Dear Dave this is your final notice to collect your 4* Tenerife Holiday or #5000 CASH award! Call 09061743806 from landline. TCs SAE Box326 CW25WX 150ppm',\n",
       " 'ham,Aiya we discuss later lar... Pick u up at 4 is it?',\n",
       " 'ham,Are you this much buzy',\n",
       " 'ham,Please ask mummy to call father',\n",
       " 'spam,Marvel Mobile Play the official Ultimate Spider-man game (£4.50) on ur mobile right now. Text SPIDER to 83338 for the game & we ll send u a FREE 8Ball wallpaper',\n",
       " 'ham,\"fyi I\\'m at usf now, swing by the room whenever\"']"
      ]
     },
     "execution_count": 6,
     "metadata": {},
     "output_type": "execute_result"
    }
   ],
   "source": [
    "RDDdataset.take(10)"
   ]
  },
  {
   "cell_type": "code",
   "execution_count": 7,
   "metadata": {},
   "outputs": [],
   "source": [
    "# formula para dividir o RDD em colunas e ja converte a label de caracterer para int. \n",
    "def transformlabel(RDD):\n",
    "    tolist = RDD.split(\",\")\n",
    "    label = 0.0 if tolist[0] == \"ham\" else 1.0\n",
    "    return [label, tolist[1]]"
   ]
  },
  {
   "cell_type": "code",
   "execution_count": 8,
   "metadata": {},
   "outputs": [
    {
     "data": {
      "text/plain": [
       "[[0.0, 'Hope you are having a good week. Just checking in'],\n",
       " [0.0, 'K..give back my thanks.'],\n",
       " [0.0, 'Am also doing in cbe only. But have to pay.'],\n",
       " [1.0, '\"complimentary 4 STAR Ibiza Holiday or £10'],\n",
       " [1.0,\n",
       "  'okmail: Dear Dave this is your final notice to collect your 4* Tenerife Holiday or #5000 CASH award! Call 09061743806 from landline. TCs SAE Box326 CW25WX 150ppm'],\n",
       " [0.0, 'Aiya we discuss later lar... Pick u up at 4 is it?'],\n",
       " [0.0, 'Are you this much buzy'],\n",
       " [0.0, 'Please ask mummy to call father'],\n",
       " [1.0,\n",
       "  'Marvel Mobile Play the official Ultimate Spider-man game (£4.50) on ur mobile right now. Text SPIDER to 83338 for the game & we ll send u a FREE 8Ball wallpaper'],\n",
       " [0.0, '\"fyi I\\'m at usf now'],\n",
       " [0.0, '\"Sure thing big man. i have hockey elections at 6'],\n",
       " [0.0, 'I anything lor...'],\n",
       " [0.0, '\"By march ending'],\n",
       " [0.0, '\"Hmm well'],\n",
       " [0.0, \"K I'll be sure to get up before noon and see what's what\"],\n",
       " [0.0, 'Ha ha cool cool chikku chikku:-):-DB-)'],\n",
       " [0.0,\n",
       "  'Darren was saying dat if u meeting da ge den we dun meet 4 dinner. Cos later u leave xy will feel awkward. Den u meet him 4 lunch lor.'],\n",
       " [0.0, 'He dint tell anything. He is angry on me that why you told to abi.'],\n",
       " [0.0,\n",
       "  'Up to u... u wan come then come lor... But i din c any stripes skirt...'],\n",
       " [1.0,\n",
       "  '\"U can WIN £100 of Music Gift Vouchers every week starting NOW Txt the word DRAW to 87066 TsCs www.ldew.com SkillGame']]"
      ]
     },
     "execution_count": 8,
     "metadata": {},
     "output_type": "execute_result"
    }
   ],
   "source": [
    "# Aplico a formula para o RDD \n",
    "RDDdataset2 = RDDdataset.map(transformlabel)\n",
    "RDDdataset2.take(20)"
   ]
  },
  {
   "cell_type": "code",
   "execution_count": 9,
   "metadata": {},
   "outputs": [],
   "source": [
    "# Spark Session - Seção para usar a função de dataframe do spark\n",
    "spSession = SparkSession.builder.master(\"local\").appName(\"SparkMLLib\").getOrCreate()"
   ]
  },
  {
   "cell_type": "code",
   "execution_count": 10,
   "metadata": {},
   "outputs": [],
   "source": [
    "# Crio um dataframe do spark com os dados tratados acima. \n",
    "df_spam = spSession.createDataFrame(RDDdataset2, [\"label\", \"message\"])\n"
   ]
  },
  {
   "cell_type": "code",
   "execution_count": 11,
   "metadata": {},
   "outputs": [
    {
     "name": "stdout",
     "output_type": "stream",
     "text": [
      "+-----+--------------------+\n",
      "|label|             message|\n",
      "+-----+--------------------+\n",
      "|  0.0|Hope you are havi...|\n",
      "|  0.0|K..give back my t...|\n",
      "|  0.0|Am also doing in ...|\n",
      "|  1.0|\"complimentary 4 ...|\n",
      "|  1.0|okmail: Dear Dave...|\n",
      "|  0.0|Aiya we discuss l...|\n",
      "|  0.0|Are you this much...|\n",
      "|  0.0|Please ask mummy ...|\n",
      "|  1.0|Marvel Mobile Pla...|\n",
      "|  0.0| \"fyi I'm at usf now|\n",
      "+-----+--------------------+\n",
      "only showing top 10 rows\n",
      "\n"
     ]
    }
   ],
   "source": [
    "# Imprimo as primeiras 10 linhas do dataframe. \n",
    "df_spam.select(\"label\", \"message\").show(10)"
   ]
  },
  {
   "cell_type": "code",
   "execution_count": 12,
   "metadata": {},
   "outputs": [],
   "source": [
    "# Converto todas as mesangem para minúsculo \n",
    "df_spam = df_spam.select('label', lower(col('message')).alias('message'))\n",
    "\n",
    "# Tiro os espaços\n",
    "df_spam = df_spam.select('label', rtrim(col('message')).alias('message'))\n",
    "df_spam = df_spam.select('label', ltrim(col('message')).alias('message'))\n",
    "\n",
    "# Limpeza a mesangem, tirando pontuações, números e etc.\n",
    "df_spam = df_spam.select('label',(regexp_replace('message','[^a-zA-Z\\\\s]', '')).alias('message'))\n",
    "\n"
   ]
  },
  {
   "cell_type": "code",
   "execution_count": 13,
   "metadata": {},
   "outputs": [
    {
     "name": "stdout",
     "output_type": "stream",
     "text": [
      "+-----+--------------------+\n",
      "|label|             message|\n",
      "+-----+--------------------+\n",
      "|  0.0|hope you are havi...|\n",
      "|  0.0|kgive back my thanks|\n",
      "|  0.0|am also doing in ...|\n",
      "|  1.0|complimentary  st...|\n",
      "|  1.0|okmail dear dave ...|\n",
      "|  0.0|aiya we discuss l...|\n",
      "|  0.0|are you this much...|\n",
      "|  0.0|please ask mummy ...|\n",
      "|  1.0|marvel mobile pla...|\n",
      "|  0.0|   fyi im at usf now|\n",
      "+-----+--------------------+\n",
      "only showing top 10 rows\n",
      "\n"
     ]
    }
   ],
   "source": [
    "# Imprimo as primeiras 10 linhas do dataframe. \n",
    "df_spam.select(\"label\", \"message\").show(10)"
   ]
  },
  {
   "cell_type": "code",
   "execution_count": 14,
   "metadata": {},
   "outputs": [],
   "source": [
    "# Crio as funções que serão usadas no pipeline \n",
    "\n",
    "# Essa função faz separa toda mensagem por palavra.\n",
    "tokenization = Tokenizer(inputCol = 'message', outputCol = 'message_token')\n",
    "# Essa função retira todas as palavras consideradas stopwords\n",
    "none_stop_words = StopWordsRemover(inputCol = 'message_token', outputCol = 'message_stop')\n",
    "# Essa função converte os textos em um vetor de tokens e uma representação esparsa.\n",
    "vec_count = CountVectorizer(inputCol = 'message_stop', outputCol = 'message_vec')\n",
    "# Essa função faz a contagem dos termos de frenquencia de importancia. \n",
    "idf = IDF(inputCol = 'message_vec', outputCol = 'features')\n",
    "\n"
   ]
  },
  {
   "cell_type": "code",
   "execution_count": 15,
   "metadata": {},
   "outputs": [
    {
     "name": "stdout",
     "output_type": "stream",
     "text": [
      "+-----+--------------------+--------------------+--------------------+--------------------+--------------------+\n",
      "|label|             message|       message_token|        message_stop|         message_vec|            features|\n",
      "+-----+--------------------+--------------------+--------------------+--------------------+--------------------+\n",
      "|  0.0|hope you are havi...|[hope, you, are, ...|[hope, good, week...|(7220,[10,45,81,7...|(7220,[10,45,81,7...|\n",
      "|  0.0|kgive back my thanks|[kgive, back, my,...|[kgive, back, tha...|(7220,[40,85,5679...|(7220,[40,85,5679...|\n",
      "|  0.0|am also doing in ...|[am, also, doing,...|    [also, cbe, pay]|(7220,[100,315,12...|(7220,[100,315,12...|\n",
      "+-----+--------------------+--------------------+--------------------+--------------------+--------------------+\n",
      "only showing top 3 rows\n",
      "\n"
     ]
    }
   ],
   "source": [
    "# Crio o pipeline\n",
    "pipeline = Pipeline(stages=[tokenization, none_stop_words, vec_count, idf])\n",
    "# Crio o modelo de treino para o pipeline no meu dataset de treino\n",
    "df_spam_pipe = pipeline.fit(df_spam)\n",
    "# Rodo a transformação do modelo criado no mesmo dataset de treino\n",
    "df_spam_train = df_spam_pipe.transform(df_spam)\n",
    "# Imprimo os resultados\n",
    "df_spam_train.show(3)"
   ]
  },
  {
   "cell_type": "code",
   "execution_count": 16,
   "metadata": {},
   "outputs": [
    {
     "name": "stdout",
     "output_type": "stream",
     "text": [
      "+-----+--------------------+\n",
      "|label|            features|\n",
      "+-----+--------------------+\n",
      "|  0.0|(7220,[10,45,81,7...|\n",
      "|  0.0|(7220,[40,85,5679...|\n",
      "|  0.0|(7220,[100,315,12...|\n",
      "|  1.0|(7220,[0,182,670,...|\n",
      "|  1.0|(7220,[0,2,38,111...|\n",
      "|  0.0|(7220,[0,1,71,101...|\n",
      "|  0.0|(7220,[55,1854],[...|\n",
      "|  0.0|(7220,[2,52,75,59...|\n",
      "|  1.0|(7220,[0,1,4,8,17...|\n",
      "|  0.0|(7220,[3,924,1214...|\n",
      "+-----+--------------------+\n",
      "only showing top 10 rows\n",
      "\n"
     ]
    }
   ],
   "source": [
    "# Retiro apenas o label e a ultima variável preditora tratada. \n",
    "df_spam_train = df_spam_train.select('label','features')\n",
    "df_spam_train.select('label','features').show(10)"
   ]
  },
  {
   "cell_type": "code",
   "execution_count": 17,
   "metadata": {},
   "outputs": [
    {
     "data": {
      "text/plain": [
       "[Row(label=0.0, features=SparseVector(7220, {10: 3.3711, 45: 4.0695, 81: 4.3892, 743: 6.3208}))]"
      ]
     },
     "execution_count": 17,
     "metadata": {},
     "output_type": "execute_result"
    }
   ],
   "source": [
    "df_spam_train.take(1)\n"
   ]
  },
  {
   "cell_type": "code",
   "execution_count": 18,
   "metadata": {},
   "outputs": [],
   "source": [
    "# Faço a divisão dos dados de treino e teste\n",
    "train, test = df_spam_train.randomSplit([0.7, 0.3])"
   ]
  },
  {
   "cell_type": "code",
   "execution_count": 19,
   "metadata": {},
   "outputs": [],
   "source": [
    "# Crio o modelo NaiveBayes\n",
    "modelo_nb = NaiveBayes()\n",
    "\n",
    "# Treino o modelo com os dados de train\n",
    "modelo_fit = modelo_nb.fit(train)\n",
    "\n",
    "# Faço as previões nos dados test\n",
    "previsao = modelo_fit.transform(test)\n"
   ]
  },
  {
   "cell_type": "code",
   "execution_count": 20,
   "metadata": {},
   "outputs": [
    {
     "name": "stdout",
     "output_type": "stream",
     "text": [
      "+-----+--------------------+--------------------+--------------------+----------+\n",
      "|label|            features|       rawPrediction|         probability|prediction|\n",
      "+-----+--------------------+--------------------+--------------------+----------+\n",
      "|  0.0|        (7220,[],[])|[-0.1420570947152...|[0.86757172131147...|       0.0|\n",
      "|  0.0|(7220,[0],[1.3474...|[-6.1125883196269...|[0.61685706075819...|       0.0|\n",
      "|  0.0|(7220,[0],[1.3474...|[-6.1125883196269...|[0.61685706075819...|       0.0|\n",
      "+-----+--------------------+--------------------+--------------------+----------+\n",
      "only showing top 3 rows\n",
      "\n"
     ]
    }
   ],
   "source": [
    "# Imprimo as previsões nos dados test\n",
    "previsao.show(3)"
   ]
  },
  {
   "cell_type": "code",
   "execution_count": 22,
   "metadata": {},
   "outputs": [
    {
     "data": {
      "text/plain": [
       "[Row(prediction=0.0, label=0.0),\n",
       " Row(prediction=0.0, label=0.0),\n",
       " Row(prediction=0.0, label=0.0),\n",
       " Row(prediction=0.0, label=0.0),\n",
       " Row(prediction=0.0, label=0.0),\n",
       " Row(prediction=0.0, label=0.0),\n",
       " Row(prediction=0.0, label=0.0),\n",
       " Row(prediction=0.0, label=0.0),\n",
       " Row(prediction=0.0, label=0.0),\n",
       " Row(prediction=0.0, label=0.0),\n",
       " Row(prediction=0.0, label=0.0),\n",
       " Row(prediction=1.0, label=0.0),\n",
       " Row(prediction=0.0, label=0.0),\n",
       " Row(prediction=0.0, label=0.0),\n",
       " Row(prediction=0.0, label=0.0),\n",
       " Row(prediction=0.0, label=0.0),\n",
       " Row(prediction=0.0, label=0.0),\n",
       " Row(prediction=0.0, label=0.0),\n",
       " Row(prediction=0.0, label=0.0),\n",
       " Row(prediction=1.0, label=0.0),\n",
       " Row(prediction=0.0, label=0.0),\n",
       " Row(prediction=0.0, label=0.0),\n",
       " Row(prediction=0.0, label=0.0),\n",
       " Row(prediction=0.0, label=0.0),\n",
       " Row(prediction=0.0, label=0.0),\n",
       " Row(prediction=0.0, label=0.0),\n",
       " Row(prediction=0.0, label=0.0),\n",
       " Row(prediction=0.0, label=0.0),\n",
       " Row(prediction=1.0, label=0.0),\n",
       " Row(prediction=0.0, label=0.0),\n",
       " Row(prediction=0.0, label=0.0),\n",
       " Row(prediction=0.0, label=0.0),\n",
       " Row(prediction=0.0, label=0.0),\n",
       " Row(prediction=0.0, label=0.0),\n",
       " Row(prediction=0.0, label=0.0),\n",
       " Row(prediction=0.0, label=0.0),\n",
       " Row(prediction=0.0, label=0.0),\n",
       " Row(prediction=0.0, label=0.0),\n",
       " Row(prediction=0.0, label=0.0),\n",
       " Row(prediction=0.0, label=0.0),\n",
       " Row(prediction=0.0, label=0.0),\n",
       " Row(prediction=0.0, label=0.0),\n",
       " Row(prediction=0.0, label=0.0),\n",
       " Row(prediction=0.0, label=0.0),\n",
       " Row(prediction=0.0, label=0.0),\n",
       " Row(prediction=0.0, label=0.0),\n",
       " Row(prediction=1.0, label=0.0),\n",
       " Row(prediction=0.0, label=0.0),\n",
       " Row(prediction=0.0, label=0.0),\n",
       " Row(prediction=0.0, label=0.0)]"
      ]
     },
     "execution_count": 22,
     "metadata": {},
     "output_type": "execute_result"
    }
   ],
   "source": [
    "# Apenas os labels e previsões 50 primeiras linhas \n",
    "previsao.select(\"prediction\", \"label\").take(50)"
   ]
  },
  {
   "cell_type": "code",
   "execution_count": 23,
   "metadata": {},
   "outputs": [
    {
     "data": {
      "text/plain": [
       "0.9022329511164756"
      ]
     },
     "execution_count": 23,
     "metadata": {},
     "output_type": "execute_result"
    }
   ],
   "source": [
    "# Avaliando a acurácia do modelo \n",
    "acurácia = MulticlassClassificationEvaluator(predictionCol = \"prediction\", labelCol = \"label\", metricName = \"accuracy\")\n",
    "acurácia.evaluate(previsao)"
   ]
  },
  {
   "cell_type": "markdown",
   "metadata": {},
   "source": [
    "O modelo obteve 90% de acurácia, para um modelo de filtro de spam está considerada boa, e aparentemente generalizado. Vamos abaixo verificar onde foram os erros dele com a matriz de confusão. "
   ]
  },
  {
   "cell_type": "code",
   "execution_count": 24,
   "metadata": {},
   "outputs": [
    {
     "name": "stdout",
     "output_type": "stream",
     "text": [
      "+-----+----------+-----+\n",
      "|label|prediction|count|\n",
      "+-----+----------+-----+\n",
      "|  1.0|       1.0|  219|\n",
      "|  0.0|       1.0|  150|\n",
      "|  1.0|       0.0|   12|\n",
      "|  0.0|       0.0| 1276|\n",
      "+-----+----------+-----+\n",
      "\n"
     ]
    }
   ],
   "source": [
    "# Imprimo a matriz de confusão das previsões. \n",
    "previsao.groupBy(\"label\",\"prediction\").count().show()"
   ]
  },
  {
   "cell_type": "markdown",
   "metadata": {},
   "source": [
    "## Analise em dados novos"
   ]
  },
  {
   "cell_type": "markdown",
   "metadata": {},
   "source": [
    "Irei carregar outro dataset com mensagens diferentes e simulando dados novos para passar no meu modelo e testar a acuracia.\n",
    "Temos que fazer todo o tratamento que foi feito nos dados de treino. \n",
    "Esse novo dataset contem 1000 novas mensagens.\n",
    "Com esse teste vamos ter a noção exata se nosso modelo está aprendendo mesmo, ou seja, esta generalizando."
   ]
  },
  {
   "cell_type": "code",
   "execution_count": 25,
   "metadata": {},
   "outputs": [],
   "source": [
    "# Carrego os dados novos\n",
    "RDDtestt = sc.textFile(\"Dados/sms_spam_test.csv\")"
   ]
  },
  {
   "cell_type": "code",
   "execution_count": 26,
   "metadata": {},
   "outputs": [
    {
     "data": {
      "text/plain": [
       "['ham,Ok lar... Joking wif u oni...,,,,,,,,,,',\n",
       " 'ham,U dun say so early hor... U c already then say...,,,,,,,,,,',\n",
       " \"ham,Nah I don't think he goes to usf, he lives around here though,,,,,,,,,\"]"
      ]
     },
     "execution_count": 26,
     "metadata": {},
     "output_type": "execute_result"
    }
   ],
   "source": [
    "# Removo o cabeçalho \n",
    "cabecalho = RDDtestt.take(1)[0]\n",
    "RDDtestt = RDDtestt.filter(lambda line: line !=cabecalho)\n",
    "RDDtestt.take(3)"
   ]
  },
  {
   "cell_type": "code",
   "execution_count": 27,
   "metadata": {},
   "outputs": [
    {
     "data": {
      "text/plain": [
       "[[0.0, 'Ok lar... Joking wif u oni...'],\n",
       " [0.0, 'U dun say so early hor... U c already then say...'],\n",
       " [0.0, \"Nah I don't think he goes to usf\"]]"
      ]
     },
     "execution_count": 27,
     "metadata": {},
     "output_type": "execute_result"
    }
   ],
   "source": [
    "# Aplico a formula para o RDD \n",
    "RDDtestt2 = RDDtestt.map(transformlabel)\n",
    "RDDtestt2.take(3)"
   ]
  },
  {
   "cell_type": "code",
   "execution_count": 28,
   "metadata": {},
   "outputs": [],
   "source": [
    "# Crio um dataframe. \n",
    "df_spam_test = spSession.createDataFrame(RDDtestt2, [\"label\", \"message\"])"
   ]
  },
  {
   "cell_type": "code",
   "execution_count": 29,
   "metadata": {},
   "outputs": [],
   "source": [
    "# Converto todas as mesangem para minúsculo \n",
    "df_spam_test = df_spam_test.select('label', lower(col('message')).alias('message'))\n",
    "\n",
    "# Tiro os espaços\n",
    "df_spam_test = df_spam_test.select('label', rtrim(col('message')).alias('message'))\n",
    "df_spam_test = df_spam_test.select('label', ltrim(col('message')).alias('message'))\n",
    "\n",
    "# Limpeza a mesangem, tirando pontuações, números e etc.\n",
    "df_spam_test = df_spam_test.select('label',(regexp_replace('message','[^a-zA-Z\\\\s]', '')).alias('message'))\n"
   ]
  },
  {
   "cell_type": "code",
   "execution_count": 30,
   "metadata": {},
   "outputs": [
    {
     "name": "stdout",
     "output_type": "stream",
     "text": [
      "+-----+--------------------+\n",
      "|label|             message|\n",
      "+-----+--------------------+\n",
      "|  0.0|ok lar joking wif...|\n",
      "|  0.0|u dun say so earl...|\n",
      "|  0.0|nah i dont think ...|\n",
      "+-----+--------------------+\n",
      "only showing top 3 rows\n",
      "\n"
     ]
    }
   ],
   "source": [
    "# Imprimo as primeiras 10 linhas do dataframe. \n",
    "df_spam_test.select(\"label\", \"message\").show(3)"
   ]
  },
  {
   "cell_type": "code",
   "execution_count": 31,
   "metadata": {},
   "outputs": [
    {
     "name": "stdout",
     "output_type": "stream",
     "text": [
      "+-----+--------------------+--------------------+--------------------+--------------------+--------------------+\n",
      "|label|             message|       message_token|        message_stop|         message_vec|            features|\n",
      "+-----+--------------------+--------------------+--------------------+--------------------+--------------------+\n",
      "|  0.0|ok lar joking wif...|[ok, lar, joking,...|[ok, lar, joking,...|(7220,[1,6,175,26...|(7220,[1,6,175,26...|\n",
      "|  0.0|u dun say so earl...|[u, dun, say, so,...|[u, dun, say, ear...|(7220,[1,63,67,84...|(7220,[1,63,67,84...|\n",
      "|  0.0|nah i dont think ...|[nah, i, dont, th...|[nah, dont, think...|(7220,[7,44,492,7...|(7220,[7,44,492,7...|\n",
      "+-----+--------------------+--------------------+--------------------+--------------------+--------------------+\n",
      "only showing top 3 rows\n",
      "\n"
     ]
    }
   ],
   "source": [
    "# Aplico o modelo craido do pipeline para os dados de test para as transformações. \n",
    "df_spam_test = df_spam_pipe.transform(df_spam_test)\n",
    "# Imprimo os resultados\n",
    "df_spam_test.show(3)"
   ]
  },
  {
   "cell_type": "code",
   "execution_count": 32,
   "metadata": {},
   "outputs": [],
   "source": [
    "# Retiro apenas a variáveis label e features para passar para o modelo. \n",
    "df_spam_test_features = df_spam_test.select('label','features')\n",
    "\n"
   ]
  },
  {
   "cell_type": "code",
   "execution_count": 33,
   "metadata": {},
   "outputs": [
    {
     "name": "stdout",
     "output_type": "stream",
     "text": [
      "+-----+--------------------+\n",
      "|label|            features|\n",
      "+-----+--------------------+\n",
      "|  0.0|(7220,[1,6,175,26...|\n",
      "|  0.0|(7220,[1,63,67,84...|\n",
      "|  0.0|(7220,[7,44,492,7...|\n",
      "|  0.0|(7220,[12,132,263...|\n",
      "|  0.0|(7220,[0,154,173,...|\n",
      "|  0.0|(7220,[3,7,20,22,...|\n",
      "|  0.0|(7220,[48,59,97,1...|\n",
      "|  0.0|(7220,[495,1054],...|\n",
      "|  0.0|(7220,[46,218,525...|\n",
      "|  0.0|(7220,[0,1,64,76,...|\n",
      "|  0.0|(7220,[1,60,73,77...|\n",
      "|  0.0|(7220,[144,1617,1...|\n",
      "|  0.0|(7220,[0,3,18,157...|\n",
      "|  0.0|(7220,[0,32,122,1...|\n",
      "|  0.0|(7220,[0,1,4,9,19...|\n",
      "|  0.0|(7220,[73,83,365,...|\n",
      "|  0.0|(7220,[3,65,82,14...|\n",
      "|  0.0|(7220,[82,151,374...|\n",
      "|  0.0|(7220,[0,34,76,12...|\n",
      "|  0.0|(7220,[3,40,197,6...|\n",
      "+-----+--------------------+\n",
      "only showing top 20 rows\n",
      "\n"
     ]
    }
   ],
   "source": [
    "df_spam_test_features.show()"
   ]
  },
  {
   "cell_type": "code",
   "execution_count": 34,
   "metadata": {},
   "outputs": [
    {
     "name": "stdout",
     "output_type": "stream",
     "text": [
      "+-----+--------------------+--------------------+--------------------+----------+\n",
      "|label|            features|       rawPrediction|         probability|prediction|\n",
      "+-----+--------------------+--------------------+--------------------+----------+\n",
      "|  0.0|(7220,[1,6,175,26...|[-216.10063374051...|[1.0,1.8616064476...|       0.0|\n",
      "|  0.0|(7220,[1,63,67,84...|[-286.87939091783...|[1.0,5.6703319878...|       0.0|\n",
      "|  0.0|(7220,[7,44,492,7...|[-188.92549287857...|[1.0,7.9995309326...|       0.0|\n",
      "|  0.0|(7220,[12,132,263...|[-384.84952517476...|[0.99999999999999...|       0.0|\n",
      "|  0.0|(7220,[0,154,173,...|[-833.05906190463...|[1.0,1.4574974854...|       0.0|\n",
      "|  0.0|(7220,[3,7,20,22,...|[-293.63642484561...|[1.0,3.3349626388...|       0.0|\n",
      "|  0.0|(7220,[48,59,97,1...|[-788.94923740744...|[1.0,1.7141468735...|       0.0|\n",
      "|  0.0|(7220,[495,1054],...|[-108.49731808187...|[0.99489855065920...|       0.0|\n",
      "|  0.0|(7220,[46,218,525...|[-135.26493671589...|[1.0,1.2519053142...|       0.0|\n",
      "|  0.0|(7220,[0,1,64,76,...|[-444.82133361782...|[1.0,9.3027938928...|       0.0|\n",
      "+-----+--------------------+--------------------+--------------------+----------+\n",
      "only showing top 10 rows\n",
      "\n"
     ]
    }
   ],
   "source": [
    "# Faço as previões nos dados novos.\n",
    "previsao2 = modelo_fit.transform(df_spam_test_features)\n",
    "# Imprimimo as 10 primeiras linhas da previsão.\n",
    "previsao2.show(10)"
   ]
  },
  {
   "cell_type": "code",
   "execution_count": 35,
   "metadata": {},
   "outputs": [
    {
     "data": {
      "text/plain": [
       "[Row(prediction=0.0, label=0.0),\n",
       " Row(prediction=0.0, label=0.0),\n",
       " Row(prediction=0.0, label=0.0),\n",
       " Row(prediction=0.0, label=0.0),\n",
       " Row(prediction=0.0, label=0.0),\n",
       " Row(prediction=0.0, label=0.0),\n",
       " Row(prediction=0.0, label=0.0),\n",
       " Row(prediction=0.0, label=0.0),\n",
       " Row(prediction=0.0, label=0.0),\n",
       " Row(prediction=0.0, label=0.0),\n",
       " Row(prediction=0.0, label=0.0),\n",
       " Row(prediction=0.0, label=0.0),\n",
       " Row(prediction=0.0, label=0.0),\n",
       " Row(prediction=0.0, label=0.0),\n",
       " Row(prediction=0.0, label=0.0),\n",
       " Row(prediction=0.0, label=0.0),\n",
       " Row(prediction=0.0, label=0.0),\n",
       " Row(prediction=0.0, label=0.0),\n",
       " Row(prediction=0.0, label=0.0),\n",
       " Row(prediction=0.0, label=0.0),\n",
       " Row(prediction=0.0, label=0.0),\n",
       " Row(prediction=0.0, label=0.0),\n",
       " Row(prediction=0.0, label=0.0),\n",
       " Row(prediction=0.0, label=0.0),\n",
       " Row(prediction=0.0, label=0.0),\n",
       " Row(prediction=0.0, label=0.0),\n",
       " Row(prediction=0.0, label=0.0),\n",
       " Row(prediction=0.0, label=0.0),\n",
       " Row(prediction=0.0, label=0.0),\n",
       " Row(prediction=0.0, label=0.0),\n",
       " Row(prediction=0.0, label=0.0),\n",
       " Row(prediction=0.0, label=0.0),\n",
       " Row(prediction=0.0, label=0.0),\n",
       " Row(prediction=0.0, label=0.0),\n",
       " Row(prediction=0.0, label=0.0),\n",
       " Row(prediction=0.0, label=0.0),\n",
       " Row(prediction=0.0, label=0.0),\n",
       " Row(prediction=0.0, label=0.0),\n",
       " Row(prediction=0.0, label=0.0),\n",
       " Row(prediction=0.0, label=0.0),\n",
       " Row(prediction=0.0, label=0.0),\n",
       " Row(prediction=0.0, label=0.0),\n",
       " Row(prediction=0.0, label=0.0),\n",
       " Row(prediction=0.0, label=0.0),\n",
       " Row(prediction=0.0, label=0.0),\n",
       " Row(prediction=0.0, label=0.0),\n",
       " Row(prediction=1.0, label=0.0),\n",
       " Row(prediction=0.0, label=0.0),\n",
       " Row(prediction=0.0, label=0.0),\n",
       " Row(prediction=0.0, label=0.0)]"
      ]
     },
     "execution_count": 35,
     "metadata": {},
     "output_type": "execute_result"
    }
   ],
   "source": [
    "# Apenas os labesl e previsões 10 primeiras linhas \n",
    "previsao2.select(\"prediction\", \"label\").take(50)"
   ]
  },
  {
   "cell_type": "code",
   "execution_count": 36,
   "metadata": {},
   "outputs": [
    {
     "data": {
      "text/plain": [
       "0.96996996996997"
      ]
     },
     "execution_count": 36,
     "metadata": {},
     "output_type": "execute_result"
    }
   ],
   "source": [
    "# Avaliando a acurácia para os dados novos.\n",
    "acurácia2 = MulticlassClassificationEvaluator(predictionCol = \"prediction\", labelCol = \"label\", metricName = \"accuracy\")\n",
    "acurácia2.evaluate(previsao2)"
   ]
  },
  {
   "cell_type": "code",
   "execution_count": 37,
   "metadata": {},
   "outputs": [
    {
     "name": "stdout",
     "output_type": "stream",
     "text": [
      "+-----+----------+-----+\n",
      "|label|prediction|count|\n",
      "+-----+----------+-----+\n",
      "|  1.0|       1.0|  487|\n",
      "|  0.0|       1.0|   17|\n",
      "|  1.0|       0.0|   13|\n",
      "|  0.0|       0.0|  482|\n",
      "+-----+----------+-----+\n",
      "\n"
     ]
    }
   ],
   "source": [
    "# Imprimo a matriz de confusão \n",
    "previsao2.groupBy(\"label\",\"prediction\").count().show()"
   ]
  },
  {
   "cell_type": "markdown",
   "metadata": {},
   "source": [
    "## Considerações finais "
   ]
  },
  {
   "cell_type": "markdown",
   "metadata": {},
   "source": [
    "O modelo foi excelente nos dados novos atingiu uma acurácia de 96%, podemos trazer alguns novos dados para mais alguns testes, mas considerando a acurácia no treino e nos dados novos, pode-se agora criar uma solução analítica por exemplo e aplicar esse modelo nas previsões de filtro de spam em mensagens futuras. "
   ]
  },
  {
   "cell_type": "markdown",
   "metadata": {},
   "source": [
    "## Obrigado! Entre em contato comigo acessando meu portifolio (https://campos1989.github.io/) no menu contato!"
   ]
  }
 ],
 "metadata": {
  "kernelspec": {
   "display_name": "Python 3",
   "language": "python",
   "name": "python3"
  },
  "language_info": {
   "codemirror_mode": {
    "name": "ipython",
    "version": 3
   },
   "file_extension": ".py",
   "mimetype": "text/x-python",
   "name": "python",
   "nbconvert_exporter": "python",
   "pygments_lexer": "ipython3",
   "version": "3.7.3"
  },
  "toc": {
   "base_numbering": 1,
   "nav_menu": {},
   "number_sections": true,
   "sideBar": true,
   "skip_h1_title": false,
   "title_cell": "Table of Contents",
   "title_sidebar": "Contents",
   "toc_cell": false,
   "toc_position": {},
   "toc_section_display": true,
   "toc_window_display": false
  }
 },
 "nbformat": 4,
 "nbformat_minor": 2
}
